{
 "cells": [
  {
   "cell_type": "code",
   "execution_count": 1,
   "id": "a3285bfe",
   "metadata": {
    "_cell_guid": "b1076dfc-b9ad-4769-8c92-a6c4dae69d19",
    "_uuid": "8f2839f25d086af736a60e9eeb907d3b93b6e0e5",
    "execution": {
     "iopub.execute_input": "2023-05-03T03:23:52.442096Z",
     "iopub.status.busy": "2023-05-03T03:23:52.441668Z",
     "iopub.status.idle": "2023-05-03T03:23:52.452251Z",
     "shell.execute_reply": "2023-05-03T03:23:52.451162Z"
    },
    "papermill": {
     "duration": 0.025291,
     "end_time": "2023-05-03T03:23:52.454873",
     "exception": false,
     "start_time": "2023-05-03T03:23:52.429582",
     "status": "completed"
    },
    "tags": []
   },
   "outputs": [],
   "source": [
    "import numpy as np                     #importing required libraries\n",
    "import pandas as pd "
   ]
  },
  {
   "cell_type": "code",
   "execution_count": 2,
   "id": "155a51ce",
   "metadata": {
    "execution": {
     "iopub.execute_input": "2023-05-03T03:23:52.474123Z",
     "iopub.status.busy": "2023-05-03T03:23:52.473285Z",
     "iopub.status.idle": "2023-05-03T03:23:58.256059Z",
     "shell.execute_reply": "2023-05-03T03:23:58.254699Z"
    },
    "papermill": {
     "duration": 5.795823,
     "end_time": "2023-05-03T03:23:58.259222",
     "exception": false,
     "start_time": "2023-05-03T03:23:52.463399",
     "status": "completed"
    },
    "tags": []
   },
   "outputs": [],
   "source": [
    "credits = pd.read_csv(\"/kaggle/input/the-movies-dataset/credits.csv\",low_memory = False)                                 #reading the dataset\n",
    "\n",
    "keywords = pd.read_csv(\"/kaggle/input/the-movies-dataset/keywords.csv\",low_memory = False)\n",
    "movies_metadata_new = pd.read_csv(\"/kaggle/input/movies-metadata-new/movies_metadata_new.csv\",low_memory = False)\n"
   ]
  },
  {
   "cell_type": "code",
   "execution_count": 3,
   "id": "bff1ab96",
   "metadata": {
    "execution": {
     "iopub.execute_input": "2023-05-03T03:23:58.278116Z",
     "iopub.status.busy": "2023-05-03T03:23:58.277180Z",
     "iopub.status.idle": "2023-05-03T03:23:58.315792Z",
     "shell.execute_reply": "2023-05-03T03:23:58.314730Z"
    },
    "papermill": {
     "duration": 0.05075,
     "end_time": "2023-05-03T03:23:58.318284",
     "exception": false,
     "start_time": "2023-05-03T03:23:58.267534",
     "status": "completed"
    },
    "tags": []
   },
   "outputs": [
    {
     "name": "stdout",
     "output_type": "stream",
     "text": [
      "(45463, 5)\n"
     ]
    }
   ],
   "source": [
    "movies_metadata_new = movies_metadata_new[['id','genres','original_title','overview','production_companies']]   #selecting required colomns from tables\n",
    "credits = credits[['id','cast','crew']]\n",
    "keywords = keywords[['id','keywords']]\n",
    "print(movies_metadata_new.shape)                               #printing the shape of the table"
   ]
  },
  {
   "cell_type": "code",
   "execution_count": 4,
   "id": "8d212792",
   "metadata": {
    "execution": {
     "iopub.execute_input": "2023-05-03T03:23:58.337686Z",
     "iopub.status.busy": "2023-05-03T03:23:58.336996Z",
     "iopub.status.idle": "2023-05-03T03:23:58.382241Z",
     "shell.execute_reply": "2023-05-03T03:23:58.381207Z"
    },
    "papermill": {
     "duration": 0.058134,
     "end_time": "2023-05-03T03:23:58.385106",
     "exception": false,
     "start_time": "2023-05-03T03:23:58.326972",
     "status": "completed"
    },
    "tags": []
   },
   "outputs": [
    {
     "data": {
      "text/plain": [
       "id          0\n",
       "keywords    0\n",
       "dtype: int64"
      ]
     },
     "execution_count": 4,
     "metadata": {},
     "output_type": "execute_result"
    }
   ],
   "source": [
    "movies_metadata_new.isnull().sum()                    #finding missing data\n",
    "credits.isnull().sum()\n",
    "keywords.isnull().sum()"
   ]
  },
  {
   "cell_type": "code",
   "execution_count": 5,
   "id": "24f73a56",
   "metadata": {
    "execution": {
     "iopub.execute_input": "2023-05-03T03:23:58.405218Z",
     "iopub.status.busy": "2023-05-03T03:23:58.404539Z",
     "iopub.status.idle": "2023-05-03T03:23:58.485381Z",
     "shell.execute_reply": "2023-05-03T03:23:58.484035Z"
    },
    "papermill": {
     "duration": 0.094209,
     "end_time": "2023-05-03T03:23:58.488343",
     "exception": false,
     "start_time": "2023-05-03T03:23:58.394134",
     "status": "completed"
    },
    "tags": []
   },
   "outputs": [],
   "source": [
    "movies_metadata_new['id'] = movies_metadata_new['id'].fillna(0)\n",
    "movies_metadata_new['id']=pd.to_numeric(movies_metadata_new['id']).astype('Int64')\n",
    "\n",
    "merged_data = keywords.merge(movies_metadata_new, on = 'id')\n",
    "merged_data = merged_data.merge(credits, on = 'id')"
   ]
  },
  {
   "cell_type": "code",
   "execution_count": 6,
   "id": "105aa9ae",
   "metadata": {
    "execution": {
     "iopub.execute_input": "2023-05-03T03:23:58.508805Z",
     "iopub.status.busy": "2023-05-03T03:23:58.508347Z",
     "iopub.status.idle": "2023-05-03T03:23:58.513455Z",
     "shell.execute_reply": "2023-05-03T03:23:58.512115Z"
    },
    "papermill": {
     "duration": 0.018375,
     "end_time": "2023-05-03T03:23:58.515905",
     "exception": false,
     "start_time": "2023-05-03T03:23:58.497530",
     "status": "completed"
    },
    "tags": []
   },
   "outputs": [],
   "source": [
    "# This line of code imports the \"ast\" module, which stands for \"Abstract Syntax Trees\".\n",
    "import ast"
   ]
  },
  {
   "cell_type": "code",
   "execution_count": 7,
   "id": "da552306",
   "metadata": {
    "execution": {
     "iopub.execute_input": "2023-05-03T03:23:58.539553Z",
     "iopub.status.busy": "2023-05-03T03:23:58.537052Z",
     "iopub.status.idle": "2023-05-03T03:23:58.544926Z",
     "shell.execute_reply": "2023-05-03T03:23:58.543702Z"
    },
    "papermill": {
     "duration": 0.023047,
     "end_time": "2023-05-03T03:23:58.547655",
     "exception": false,
     "start_time": "2023-05-03T03:23:58.524608",
     "status": "completed"
    },
    "tags": []
   },
   "outputs": [],
   "source": [
    "def toList(text):\n",
    "    list = []\n",
    "    for i in ast.literal_eval(text):                 #to convert the string object into a list\n",
    "            list.append(i['name'])\n",
    "    return list "
   ]
  },
  {
   "cell_type": "code",
   "execution_count": 8,
   "id": "6cbdd55d",
   "metadata": {
    "execution": {
     "iopub.execute_input": "2023-05-03T03:23:58.568333Z",
     "iopub.status.busy": "2023-05-03T03:23:58.567282Z",
     "iopub.status.idle": "2023-05-03T03:24:01.995456Z",
     "shell.execute_reply": "2023-05-03T03:24:01.994064Z"
    },
    "papermill": {
     "duration": 3.441059,
     "end_time": "2023-05-03T03:24:01.998394",
     "exception": false,
     "start_time": "2023-05-03T03:23:58.557335",
     "status": "completed"
    },
    "tags": []
   },
   "outputs": [],
   "source": [
    "merged_data['genres'] = merged_data['genres'].apply(toList)\n",
    "merged_data['keywords'] = merged_data['keywords'].apply(toList)\n",
    "#merged_data['production_companies'] = merged_data['production_companies'].apply(toList)"
   ]
  },
  {
   "cell_type": "code",
   "execution_count": 9,
   "id": "e11c0b03",
   "metadata": {
    "execution": {
     "iopub.execute_input": "2023-05-03T03:24:02.018435Z",
     "iopub.status.busy": "2023-05-03T03:24:02.017993Z",
     "iopub.status.idle": "2023-05-03T03:24:02.023925Z",
     "shell.execute_reply": "2023-05-03T03:24:02.022692Z"
    },
    "papermill": {
     "duration": 0.018978,
     "end_time": "2023-05-03T03:24:02.026399",
     "exception": false,
     "start_time": "2023-05-03T03:24:02.007421",
     "status": "completed"
    },
    "tags": []
   },
   "outputs": [],
   "source": [
    "def getDir(obj):\n",
    "    list = []\n",
    "    for i in ast.literal_eval(obj):           #to convert the string object into a list\n",
    "        if i['job'] == 'Director':\n",
    "            list.append(i['name'])\n",
    "            break;\n",
    "    return list "
   ]
  },
  {
   "cell_type": "code",
   "execution_count": 10,
   "id": "61f1e5b8",
   "metadata": {
    "execution": {
     "iopub.execute_input": "2023-05-03T03:24:02.046104Z",
     "iopub.status.busy": "2023-05-03T03:24:02.045643Z",
     "iopub.status.idle": "2023-05-03T03:24:17.348202Z",
     "shell.execute_reply": "2023-05-03T03:24:17.346767Z"
    },
    "papermill": {
     "duration": 15.316201,
     "end_time": "2023-05-03T03:24:17.351076",
     "exception": false,
     "start_time": "2023-05-03T03:24:02.034875",
     "status": "completed"
    },
    "tags": []
   },
   "outputs": [],
   "source": [
    "# This line of code applies the function \"getDir\" to the \"crew\" column of the \"merged_data\" DataFrame using the \n",
    "# \"apply()\" method.The \"apply()\" method is used to apply a function to each element of a DataFrame or a Series.\n",
    "# In this case, the \"getDir\" function is being applied to each row of the \"crew\" column.\n",
    "# The \"getDir\" function is likely a user-defined function that takes in a string of crew members and their roles \n",
    "# (such as director, writer, etc.) and processes the string to extract or transform the name of the director in\n",
    "# some way.By applying this function to the \"crew\" column, the code is likely trying to clean or transform the\n",
    "# crew data in some way, such as removing any extra characters or formatting the names consistently. \n",
    "# The updated \"crew\" data will be stored back into the \"crew\" column of the \"merged_data\" DataFrame.\n",
    "# Note that since the function is called \"getDir\", it is likely that the goal of this code is to extract\n",
    "# the name of the director from the \"crew\" column, which can then be used for analysis or visualization purposes.\n",
    "\n",
    "merged_data['crew'] = merged_data['crew'].apply(getDir)"
   ]
  },
  {
   "cell_type": "code",
   "execution_count": 11,
   "id": "48df4433",
   "metadata": {
    "execution": {
     "iopub.execute_input": "2023-05-03T03:24:17.370239Z",
     "iopub.status.busy": "2023-05-03T03:24:17.369802Z",
     "iopub.status.idle": "2023-05-03T03:24:17.401335Z",
     "shell.execute_reply": "2023-05-03T03:24:17.400034Z"
    },
    "papermill": {
     "duration": 0.044176,
     "end_time": "2023-05-03T03:24:17.404028",
     "exception": false,
     "start_time": "2023-05-03T03:24:17.359852",
     "status": "completed"
    },
    "tags": []
   },
   "outputs": [
    {
     "data": {
      "text/html": [
       "<div>\n",
       "<style scoped>\n",
       "    .dataframe tbody tr th:only-of-type {\n",
       "        vertical-align: middle;\n",
       "    }\n",
       "\n",
       "    .dataframe tbody tr th {\n",
       "        vertical-align: top;\n",
       "    }\n",
       "\n",
       "    .dataframe thead th {\n",
       "        text-align: right;\n",
       "    }\n",
       "</style>\n",
       "<table border=\"1\" class=\"dataframe\">\n",
       "  <thead>\n",
       "    <tr style=\"text-align: right;\">\n",
       "      <th></th>\n",
       "      <th>id</th>\n",
       "      <th>keywords</th>\n",
       "      <th>genres</th>\n",
       "      <th>original_title</th>\n",
       "      <th>overview</th>\n",
       "      <th>production_companies</th>\n",
       "      <th>cast</th>\n",
       "      <th>crew</th>\n",
       "    </tr>\n",
       "  </thead>\n",
       "  <tbody>\n",
       "    <tr>\n",
       "      <th>0</th>\n",
       "      <td>862</td>\n",
       "      <td>[jealousy, toy, boy, friendship, friends, riva...</td>\n",
       "      <td>[Animation, Comedy, Family]</td>\n",
       "      <td>Toy Story</td>\n",
       "      <td>Led by Woody, Andy's toys live happily in his ...</td>\n",
       "      <td>[{'name': 'Pixar Animation Studios', 'id': 3}]</td>\n",
       "      <td>[{'cast_id': 14, 'character': 'Woody (voice)',...</td>\n",
       "      <td>[John Lasseter]</td>\n",
       "    </tr>\n",
       "    <tr>\n",
       "      <th>1</th>\n",
       "      <td>8844</td>\n",
       "      <td>[board game, disappearance, based on children'...</td>\n",
       "      <td>[Adventure, Fantasy, Family]</td>\n",
       "      <td>Jumanji</td>\n",
       "      <td>When siblings Judy and Peter discover an encha...</td>\n",
       "      <td>[{'name': 'TriStar Pictures', 'id': 559}, {'na...</td>\n",
       "      <td>[{'cast_id': 1, 'character': 'Alan Parrish', '...</td>\n",
       "      <td>[Joe Johnston]</td>\n",
       "    </tr>\n",
       "    <tr>\n",
       "      <th>2</th>\n",
       "      <td>15602</td>\n",
       "      <td>[fishing, best friend, duringcreditsstinger, o...</td>\n",
       "      <td>[Romance, Comedy]</td>\n",
       "      <td>Grumpier Old Men</td>\n",
       "      <td>A family wedding reignites the ancient feud be...</td>\n",
       "      <td>[{'name': 'Warner Bros.', 'id': 6194}, {'name'...</td>\n",
       "      <td>[{'cast_id': 2, 'character': 'Max Goldman', 'c...</td>\n",
       "      <td>[Howard Deutch]</td>\n",
       "    </tr>\n",
       "    <tr>\n",
       "      <th>3</th>\n",
       "      <td>31357</td>\n",
       "      <td>[based on novel, interracial relationship, sin...</td>\n",
       "      <td>[Comedy, Drama, Romance]</td>\n",
       "      <td>Waiting to Exhale</td>\n",
       "      <td>Cheated on, mistreated and stepped on, the wom...</td>\n",
       "      <td>[{'name': 'Twentieth Century Fox Film Corporat...</td>\n",
       "      <td>[{'cast_id': 1, 'character': \"Savannah 'Vannah...</td>\n",
       "      <td>[Forest Whitaker]</td>\n",
       "    </tr>\n",
       "    <tr>\n",
       "      <th>4</th>\n",
       "      <td>11862</td>\n",
       "      <td>[baby, midlife crisis, confidence, aging, daug...</td>\n",
       "      <td>[Comedy]</td>\n",
       "      <td>Father of the Bride Part II</td>\n",
       "      <td>Just when George Banks has recovered from his ...</td>\n",
       "      <td>[{'name': 'Sandollar Productions', 'id': 5842}...</td>\n",
       "      <td>[{'cast_id': 1, 'character': 'George Banks', '...</td>\n",
       "      <td>[Charles Shyer]</td>\n",
       "    </tr>\n",
       "  </tbody>\n",
       "</table>\n",
       "</div>"
      ],
      "text/plain": [
       "      id                                           keywords  \\\n",
       "0    862  [jealousy, toy, boy, friendship, friends, riva...   \n",
       "1   8844  [board game, disappearance, based on children'...   \n",
       "2  15602  [fishing, best friend, duringcreditsstinger, o...   \n",
       "3  31357  [based on novel, interracial relationship, sin...   \n",
       "4  11862  [baby, midlife crisis, confidence, aging, daug...   \n",
       "\n",
       "                         genres               original_title  \\\n",
       "0   [Animation, Comedy, Family]                    Toy Story   \n",
       "1  [Adventure, Fantasy, Family]                      Jumanji   \n",
       "2             [Romance, Comedy]             Grumpier Old Men   \n",
       "3      [Comedy, Drama, Romance]            Waiting to Exhale   \n",
       "4                      [Comedy]  Father of the Bride Part II   \n",
       "\n",
       "                                            overview  \\\n",
       "0  Led by Woody, Andy's toys live happily in his ...   \n",
       "1  When siblings Judy and Peter discover an encha...   \n",
       "2  A family wedding reignites the ancient feud be...   \n",
       "3  Cheated on, mistreated and stepped on, the wom...   \n",
       "4  Just when George Banks has recovered from his ...   \n",
       "\n",
       "                                production_companies  \\\n",
       "0     [{'name': 'Pixar Animation Studios', 'id': 3}]   \n",
       "1  [{'name': 'TriStar Pictures', 'id': 559}, {'na...   \n",
       "2  [{'name': 'Warner Bros.', 'id': 6194}, {'name'...   \n",
       "3  [{'name': 'Twentieth Century Fox Film Corporat...   \n",
       "4  [{'name': 'Sandollar Productions', 'id': 5842}...   \n",
       "\n",
       "                                                cast               crew  \n",
       "0  [{'cast_id': 14, 'character': 'Woody (voice)',...    [John Lasseter]  \n",
       "1  [{'cast_id': 1, 'character': 'Alan Parrish', '...     [Joe Johnston]  \n",
       "2  [{'cast_id': 2, 'character': 'Max Goldman', 'c...    [Howard Deutch]  \n",
       "3  [{'cast_id': 1, 'character': \"Savannah 'Vannah...  [Forest Whitaker]  \n",
       "4  [{'cast_id': 1, 'character': 'George Banks', '...    [Charles Shyer]  "
      ]
     },
     "execution_count": 11,
     "metadata": {},
     "output_type": "execute_result"
    }
   ],
   "source": [
    "merged_data.head()"
   ]
  },
  {
   "cell_type": "code",
   "execution_count": 12,
   "id": "2a5ff5b7",
   "metadata": {
    "execution": {
     "iopub.execute_input": "2023-05-03T03:24:17.424902Z",
     "iopub.status.busy": "2023-05-03T03:24:17.423444Z",
     "iopub.status.idle": "2023-05-03T03:24:17.430300Z",
     "shell.execute_reply": "2023-05-03T03:24:17.429285Z"
    },
    "papermill": {
     "duration": 0.020005,
     "end_time": "2023-05-03T03:24:17.432892",
     "exception": false,
     "start_time": "2023-05-03T03:24:17.412887",
     "status": "completed"
    },
    "tags": []
   },
   "outputs": [],
   "source": [
    "# This is a user-defined function called \"castNames\" that takes in a string argument called \"text\".\n",
    "def castNames(text):\n",
    "    list = []\n",
    "    counter = 0\n",
    "    for i in ast.literal_eval(text):           #to convert the string object into a list\n",
    "        if(counter<5):\n",
    "            list.append(i['name'])\n",
    "            counter+=1\n",
    "        else:\n",
    "            break\n",
    "    return list "
   ]
  },
  {
   "cell_type": "code",
   "execution_count": 13,
   "id": "14280880",
   "metadata": {
    "execution": {
     "iopub.execute_input": "2023-05-03T03:24:17.452560Z",
     "iopub.status.busy": "2023-05-03T03:24:17.452128Z",
     "iopub.status.idle": "2023-05-03T03:24:37.576046Z",
     "shell.execute_reply": "2023-05-03T03:24:37.574695Z"
    },
    "papermill": {
     "duration": 20.137325,
     "end_time": "2023-05-03T03:24:37.579013",
     "exception": false,
     "start_time": "2023-05-03T03:24:17.441688",
     "status": "completed"
    },
    "tags": []
   },
   "outputs": [],
   "source": [
    "merged_data['cast'] = merged_data['cast'].apply(castNames)\n",
    "# The \"apply()\" method is used to apply a function to each element of a DataFrame or a Series. \n",
    "# In this case, the \"castNames\" function is being applied to each row of the \"cast\" column.\n",
    "# The \"castNames\" function is likely a user-defined function that takes in a string of actor/actress\n",
    "# names separated by a delimiter (such as a comma) and processes the string to extract or transform the \n",
    "# names in some way."
   ]
  },
  {
   "cell_type": "code",
   "execution_count": 14,
   "id": "2a3b9624",
   "metadata": {
    "execution": {
     "iopub.execute_input": "2023-05-03T03:24:37.599645Z",
     "iopub.status.busy": "2023-05-03T03:24:37.599184Z",
     "iopub.status.idle": "2023-05-03T03:24:37.621376Z",
     "shell.execute_reply": "2023-05-03T03:24:37.620005Z"
    },
    "papermill": {
     "duration": 0.035755,
     "end_time": "2023-05-03T03:24:37.624057",
     "exception": false,
     "start_time": "2023-05-03T03:24:37.588302",
     "status": "completed"
    },
    "tags": []
   },
   "outputs": [
    {
     "data": {
      "text/html": [
       "<div>\n",
       "<style scoped>\n",
       "    .dataframe tbody tr th:only-of-type {\n",
       "        vertical-align: middle;\n",
       "    }\n",
       "\n",
       "    .dataframe tbody tr th {\n",
       "        vertical-align: top;\n",
       "    }\n",
       "\n",
       "    .dataframe thead th {\n",
       "        text-align: right;\n",
       "    }\n",
       "</style>\n",
       "<table border=\"1\" class=\"dataframe\">\n",
       "  <thead>\n",
       "    <tr style=\"text-align: right;\">\n",
       "      <th></th>\n",
       "      <th>id</th>\n",
       "      <th>keywords</th>\n",
       "      <th>genres</th>\n",
       "      <th>original_title</th>\n",
       "      <th>overview</th>\n",
       "      <th>production_companies</th>\n",
       "      <th>cast</th>\n",
       "      <th>crew</th>\n",
       "    </tr>\n",
       "  </thead>\n",
       "  <tbody>\n",
       "    <tr>\n",
       "      <th>0</th>\n",
       "      <td>862</td>\n",
       "      <td>[jealousy, toy, boy, friendship, friends, riva...</td>\n",
       "      <td>[Animation, Comedy, Family]</td>\n",
       "      <td>Toy Story</td>\n",
       "      <td>Led by Woody, Andy's toys live happily in his ...</td>\n",
       "      <td>[{'name': 'Pixar Animation Studios', 'id': 3}]</td>\n",
       "      <td>[Tom Hanks, Tim Allen, Don Rickles, Jim Varney...</td>\n",
       "      <td>[John Lasseter]</td>\n",
       "    </tr>\n",
       "    <tr>\n",
       "      <th>1</th>\n",
       "      <td>8844</td>\n",
       "      <td>[board game, disappearance, based on children'...</td>\n",
       "      <td>[Adventure, Fantasy, Family]</td>\n",
       "      <td>Jumanji</td>\n",
       "      <td>When siblings Judy and Peter discover an encha...</td>\n",
       "      <td>[{'name': 'TriStar Pictures', 'id': 559}, {'na...</td>\n",
       "      <td>[Robin Williams, Jonathan Hyde, Kirsten Dunst,...</td>\n",
       "      <td>[Joe Johnston]</td>\n",
       "    </tr>\n",
       "    <tr>\n",
       "      <th>2</th>\n",
       "      <td>15602</td>\n",
       "      <td>[fishing, best friend, duringcreditsstinger, o...</td>\n",
       "      <td>[Romance, Comedy]</td>\n",
       "      <td>Grumpier Old Men</td>\n",
       "      <td>A family wedding reignites the ancient feud be...</td>\n",
       "      <td>[{'name': 'Warner Bros.', 'id': 6194}, {'name'...</td>\n",
       "      <td>[Walter Matthau, Jack Lemmon, Ann-Margret, Sop...</td>\n",
       "      <td>[Howard Deutch]</td>\n",
       "    </tr>\n",
       "    <tr>\n",
       "      <th>3</th>\n",
       "      <td>31357</td>\n",
       "      <td>[based on novel, interracial relationship, sin...</td>\n",
       "      <td>[Comedy, Drama, Romance]</td>\n",
       "      <td>Waiting to Exhale</td>\n",
       "      <td>Cheated on, mistreated and stepped on, the wom...</td>\n",
       "      <td>[{'name': 'Twentieth Century Fox Film Corporat...</td>\n",
       "      <td>[Whitney Houston, Angela Bassett, Loretta Devi...</td>\n",
       "      <td>[Forest Whitaker]</td>\n",
       "    </tr>\n",
       "    <tr>\n",
       "      <th>4</th>\n",
       "      <td>11862</td>\n",
       "      <td>[baby, midlife crisis, confidence, aging, daug...</td>\n",
       "      <td>[Comedy]</td>\n",
       "      <td>Father of the Bride Part II</td>\n",
       "      <td>Just when George Banks has recovered from his ...</td>\n",
       "      <td>[{'name': 'Sandollar Productions', 'id': 5842}...</td>\n",
       "      <td>[Steve Martin, Diane Keaton, Martin Short, Kim...</td>\n",
       "      <td>[Charles Shyer]</td>\n",
       "    </tr>\n",
       "  </tbody>\n",
       "</table>\n",
       "</div>"
      ],
      "text/plain": [
       "      id                                           keywords  \\\n",
       "0    862  [jealousy, toy, boy, friendship, friends, riva...   \n",
       "1   8844  [board game, disappearance, based on children'...   \n",
       "2  15602  [fishing, best friend, duringcreditsstinger, o...   \n",
       "3  31357  [based on novel, interracial relationship, sin...   \n",
       "4  11862  [baby, midlife crisis, confidence, aging, daug...   \n",
       "\n",
       "                         genres               original_title  \\\n",
       "0   [Animation, Comedy, Family]                    Toy Story   \n",
       "1  [Adventure, Fantasy, Family]                      Jumanji   \n",
       "2             [Romance, Comedy]             Grumpier Old Men   \n",
       "3      [Comedy, Drama, Romance]            Waiting to Exhale   \n",
       "4                      [Comedy]  Father of the Bride Part II   \n",
       "\n",
       "                                            overview  \\\n",
       "0  Led by Woody, Andy's toys live happily in his ...   \n",
       "1  When siblings Judy and Peter discover an encha...   \n",
       "2  A family wedding reignites the ancient feud be...   \n",
       "3  Cheated on, mistreated and stepped on, the wom...   \n",
       "4  Just when George Banks has recovered from his ...   \n",
       "\n",
       "                                production_companies  \\\n",
       "0     [{'name': 'Pixar Animation Studios', 'id': 3}]   \n",
       "1  [{'name': 'TriStar Pictures', 'id': 559}, {'na...   \n",
       "2  [{'name': 'Warner Bros.', 'id': 6194}, {'name'...   \n",
       "3  [{'name': 'Twentieth Century Fox Film Corporat...   \n",
       "4  [{'name': 'Sandollar Productions', 'id': 5842}...   \n",
       "\n",
       "                                                cast               crew  \n",
       "0  [Tom Hanks, Tim Allen, Don Rickles, Jim Varney...    [John Lasseter]  \n",
       "1  [Robin Williams, Jonathan Hyde, Kirsten Dunst,...     [Joe Johnston]  \n",
       "2  [Walter Matthau, Jack Lemmon, Ann-Margret, Sop...    [Howard Deutch]  \n",
       "3  [Whitney Houston, Angela Bassett, Loretta Devi...  [Forest Whitaker]  \n",
       "4  [Steve Martin, Diane Keaton, Martin Short, Kim...    [Charles Shyer]  "
      ]
     },
     "execution_count": 14,
     "metadata": {},
     "output_type": "execute_result"
    }
   ],
   "source": [
    "merged_data.head()\n",
    "# The \"merged_data.head()\" command is used to display the first few rows of the merged_data DataFrame. \n",
    "# The \".head()\" method in Python returns the first n rows of a DataFrame, \n",
    "# where n is specified as an argument (the default value is 5 if no argument is provided)."
   ]
  },
  {
   "cell_type": "code",
   "execution_count": 15,
   "id": "0ee8ecc4",
   "metadata": {
    "execution": {
     "iopub.execute_input": "2023-05-03T03:24:37.644147Z",
     "iopub.status.busy": "2023-05-03T03:24:37.643701Z",
     "iopub.status.idle": "2023-05-03T03:24:38.032268Z",
     "shell.execute_reply": "2023-05-03T03:24:38.031124Z"
    },
    "papermill": {
     "duration": 0.402076,
     "end_time": "2023-05-03T03:24:38.035217",
     "exception": false,
     "start_time": "2023-05-03T03:24:37.633141",
     "status": "completed"
    },
    "tags": []
   },
   "outputs": [],
   "source": [
    "merged_data['overview'] = merged_data['overview'].astype(str)\n",
    "merged_data['overview'] = merged_data['overview'].apply(lambda x : x.split())"
   ]
  },
  {
   "cell_type": "code",
   "execution_count": 16,
   "id": "ff5a43ca",
   "metadata": {
    "execution": {
     "iopub.execute_input": "2023-05-03T03:24:38.056402Z",
     "iopub.status.busy": "2023-05-03T03:24:38.055981Z",
     "iopub.status.idle": "2023-05-03T03:24:38.062251Z",
     "shell.execute_reply": "2023-05-03T03:24:38.060806Z"
    },
    "papermill": {
     "duration": 0.019927,
     "end_time": "2023-05-03T03:24:38.064834",
     "exception": false,
     "start_time": "2023-05-03T03:24:38.044907",
     "status": "completed"
    },
    "tags": []
   },
   "outputs": [],
   "source": [
    "def collapse(list):\n",
    "    collapsed_list = []\n",
    "    for i in list:\n",
    "        collapsed_list.append(i.replace(\" \",\"\"))\n",
    "    return collapsed_list"
   ]
  },
  {
   "cell_type": "code",
   "execution_count": 17,
   "id": "2fe94c3a",
   "metadata": {
    "execution": {
     "iopub.execute_input": "2023-05-03T03:24:38.084918Z",
     "iopub.status.busy": "2023-05-03T03:24:38.084405Z",
     "iopub.status.idle": "2023-05-03T03:24:38.820332Z",
     "shell.execute_reply": "2023-05-03T03:24:38.818918Z"
    },
    "papermill": {
     "duration": 0.749262,
     "end_time": "2023-05-03T03:24:38.823295",
     "exception": false,
     "start_time": "2023-05-03T03:24:38.074033",
     "status": "completed"
    },
    "tags": []
   },
   "outputs": [],
   "source": [
    "merged_data['keywords'] = merged_data['keywords'].apply(collapse)\n",
    "merged_data['genres'] = merged_data['genres'].apply(collapse)\n",
    "merged_data['crew'] = merged_data['crew'].apply(collapse)\n",
    "merged_data['cast'] = merged_data['cast'].apply(collapse)"
   ]
  },
  {
   "cell_type": "code",
   "execution_count": 18,
   "id": "fc8537d3",
   "metadata": {
    "execution": {
     "iopub.execute_input": "2023-05-03T03:24:38.843974Z",
     "iopub.status.busy": "2023-05-03T03:24:38.843490Z",
     "iopub.status.idle": "2023-05-03T03:24:38.869255Z",
     "shell.execute_reply": "2023-05-03T03:24:38.867967Z"
    },
    "papermill": {
     "duration": 0.039462,
     "end_time": "2023-05-03T03:24:38.871802",
     "exception": false,
     "start_time": "2023-05-03T03:24:38.832340",
     "status": "completed"
    },
    "tags": []
   },
   "outputs": [
    {
     "data": {
      "text/html": [
       "<div>\n",
       "<style scoped>\n",
       "    .dataframe tbody tr th:only-of-type {\n",
       "        vertical-align: middle;\n",
       "    }\n",
       "\n",
       "    .dataframe tbody tr th {\n",
       "        vertical-align: top;\n",
       "    }\n",
       "\n",
       "    .dataframe thead th {\n",
       "        text-align: right;\n",
       "    }\n",
       "</style>\n",
       "<table border=\"1\" class=\"dataframe\">\n",
       "  <thead>\n",
       "    <tr style=\"text-align: right;\">\n",
       "      <th></th>\n",
       "      <th>id</th>\n",
       "      <th>keywords</th>\n",
       "      <th>genres</th>\n",
       "      <th>original_title</th>\n",
       "      <th>overview</th>\n",
       "      <th>production_companies</th>\n",
       "      <th>cast</th>\n",
       "      <th>crew</th>\n",
       "    </tr>\n",
       "  </thead>\n",
       "  <tbody>\n",
       "    <tr>\n",
       "      <th>0</th>\n",
       "      <td>862</td>\n",
       "      <td>[jealousy, toy, boy, friendship, friends, riva...</td>\n",
       "      <td>[Animation, Comedy, Family]</td>\n",
       "      <td>Toy Story</td>\n",
       "      <td>[Led, by, Woody,, Andy's, toys, live, happily,...</td>\n",
       "      <td>[{'name': 'Pixar Animation Studios', 'id': 3}]</td>\n",
       "      <td>[TomHanks, TimAllen, DonRickles, JimVarney, Wa...</td>\n",
       "      <td>[JohnLasseter]</td>\n",
       "    </tr>\n",
       "    <tr>\n",
       "      <th>1</th>\n",
       "      <td>8844</td>\n",
       "      <td>[boardgame, disappearance, basedonchildren'sbo...</td>\n",
       "      <td>[Adventure, Fantasy, Family]</td>\n",
       "      <td>Jumanji</td>\n",
       "      <td>[When, siblings, Judy, and, Peter, discover, a...</td>\n",
       "      <td>[{'name': 'TriStar Pictures', 'id': 559}, {'na...</td>\n",
       "      <td>[RobinWilliams, JonathanHyde, KirstenDunst, Br...</td>\n",
       "      <td>[JoeJohnston]</td>\n",
       "    </tr>\n",
       "    <tr>\n",
       "      <th>2</th>\n",
       "      <td>15602</td>\n",
       "      <td>[fishing, bestfriend, duringcreditsstinger, ol...</td>\n",
       "      <td>[Romance, Comedy]</td>\n",
       "      <td>Grumpier Old Men</td>\n",
       "      <td>[A, family, wedding, reignites, the, ancient, ...</td>\n",
       "      <td>[{'name': 'Warner Bros.', 'id': 6194}, {'name'...</td>\n",
       "      <td>[WalterMatthau, JackLemmon, Ann-Margret, Sophi...</td>\n",
       "      <td>[HowardDeutch]</td>\n",
       "    </tr>\n",
       "    <tr>\n",
       "      <th>3</th>\n",
       "      <td>31357</td>\n",
       "      <td>[basedonnovel, interracialrelationship, single...</td>\n",
       "      <td>[Comedy, Drama, Romance]</td>\n",
       "      <td>Waiting to Exhale</td>\n",
       "      <td>[Cheated, on,, mistreated, and, stepped, on,, ...</td>\n",
       "      <td>[{'name': 'Twentieth Century Fox Film Corporat...</td>\n",
       "      <td>[WhitneyHouston, AngelaBassett, LorettaDevine,...</td>\n",
       "      <td>[ForestWhitaker]</td>\n",
       "    </tr>\n",
       "    <tr>\n",
       "      <th>4</th>\n",
       "      <td>11862</td>\n",
       "      <td>[baby, midlifecrisis, confidence, aging, daugh...</td>\n",
       "      <td>[Comedy]</td>\n",
       "      <td>Father of the Bride Part II</td>\n",
       "      <td>[Just, when, George, Banks, has, recovered, fr...</td>\n",
       "      <td>[{'name': 'Sandollar Productions', 'id': 5842}...</td>\n",
       "      <td>[SteveMartin, DianeKeaton, MartinShort, Kimber...</td>\n",
       "      <td>[CharlesShyer]</td>\n",
       "    </tr>\n",
       "  </tbody>\n",
       "</table>\n",
       "</div>"
      ],
      "text/plain": [
       "      id                                           keywords  \\\n",
       "0    862  [jealousy, toy, boy, friendship, friends, riva...   \n",
       "1   8844  [boardgame, disappearance, basedonchildren'sbo...   \n",
       "2  15602  [fishing, bestfriend, duringcreditsstinger, ol...   \n",
       "3  31357  [basedonnovel, interracialrelationship, single...   \n",
       "4  11862  [baby, midlifecrisis, confidence, aging, daugh...   \n",
       "\n",
       "                         genres               original_title  \\\n",
       "0   [Animation, Comedy, Family]                    Toy Story   \n",
       "1  [Adventure, Fantasy, Family]                      Jumanji   \n",
       "2             [Romance, Comedy]             Grumpier Old Men   \n",
       "3      [Comedy, Drama, Romance]            Waiting to Exhale   \n",
       "4                      [Comedy]  Father of the Bride Part II   \n",
       "\n",
       "                                            overview  \\\n",
       "0  [Led, by, Woody,, Andy's, toys, live, happily,...   \n",
       "1  [When, siblings, Judy, and, Peter, discover, a...   \n",
       "2  [A, family, wedding, reignites, the, ancient, ...   \n",
       "3  [Cheated, on,, mistreated, and, stepped, on,, ...   \n",
       "4  [Just, when, George, Banks, has, recovered, fr...   \n",
       "\n",
       "                                production_companies  \\\n",
       "0     [{'name': 'Pixar Animation Studios', 'id': 3}]   \n",
       "1  [{'name': 'TriStar Pictures', 'id': 559}, {'na...   \n",
       "2  [{'name': 'Warner Bros.', 'id': 6194}, {'name'...   \n",
       "3  [{'name': 'Twentieth Century Fox Film Corporat...   \n",
       "4  [{'name': 'Sandollar Productions', 'id': 5842}...   \n",
       "\n",
       "                                                cast              crew  \n",
       "0  [TomHanks, TimAllen, DonRickles, JimVarney, Wa...    [JohnLasseter]  \n",
       "1  [RobinWilliams, JonathanHyde, KirstenDunst, Br...     [JoeJohnston]  \n",
       "2  [WalterMatthau, JackLemmon, Ann-Margret, Sophi...    [HowardDeutch]  \n",
       "3  [WhitneyHouston, AngelaBassett, LorettaDevine,...  [ForestWhitaker]  \n",
       "4  [SteveMartin, DianeKeaton, MartinShort, Kimber...    [CharlesShyer]  "
      ]
     },
     "execution_count": 18,
     "metadata": {},
     "output_type": "execute_result"
    }
   ],
   "source": [
    "merged_data.head()"
   ]
  },
  {
   "cell_type": "code",
   "execution_count": 19,
   "id": "2e341de9",
   "metadata": {
    "execution": {
     "iopub.execute_input": "2023-05-03T03:24:38.892439Z",
     "iopub.status.busy": "2023-05-03T03:24:38.892019Z",
     "iopub.status.idle": "2023-05-03T03:24:39.723906Z",
     "shell.execute_reply": "2023-05-03T03:24:39.722484Z"
    },
    "papermill": {
     "duration": 0.845537,
     "end_time": "2023-05-03T03:24:39.726724",
     "exception": false,
     "start_time": "2023-05-03T03:24:38.881187",
     "status": "completed"
    },
    "tags": []
   },
   "outputs": [],
   "source": [
    "merged_data['collection'] = merged_data['keywords'] + merged_data['genres'] + merged_data['overview'] + merged_data['cast'] + merged_data['crew']"
   ]
  },
  {
   "cell_type": "code",
   "execution_count": 20,
   "id": "dbdd09cf",
   "metadata": {
    "execution": {
     "iopub.execute_input": "2023-05-03T03:24:39.748121Z",
     "iopub.status.busy": "2023-05-03T03:24:39.747718Z",
     "iopub.status.idle": "2023-05-03T03:24:39.787336Z",
     "shell.execute_reply": "2023-05-03T03:24:39.785516Z"
    },
    "papermill": {
     "duration": 0.054214,
     "end_time": "2023-05-03T03:24:39.790565",
     "exception": false,
     "start_time": "2023-05-03T03:24:39.736351",
     "status": "completed"
    },
    "tags": []
   },
   "outputs": [
    {
     "data": {
      "text/html": [
       "<div>\n",
       "<style scoped>\n",
       "    .dataframe tbody tr th:only-of-type {\n",
       "        vertical-align: middle;\n",
       "    }\n",
       "\n",
       "    .dataframe tbody tr th {\n",
       "        vertical-align: top;\n",
       "    }\n",
       "\n",
       "    .dataframe thead th {\n",
       "        text-align: right;\n",
       "    }\n",
       "</style>\n",
       "<table border=\"1\" class=\"dataframe\">\n",
       "  <thead>\n",
       "    <tr style=\"text-align: right;\">\n",
       "      <th></th>\n",
       "      <th>id</th>\n",
       "      <th>original_title</th>\n",
       "      <th>collection</th>\n",
       "    </tr>\n",
       "  </thead>\n",
       "  <tbody>\n",
       "    <tr>\n",
       "      <th>0</th>\n",
       "      <td>862</td>\n",
       "      <td>Toy Story</td>\n",
       "      <td>[jealousy, toy, boy, friendship, friends, riva...</td>\n",
       "    </tr>\n",
       "    <tr>\n",
       "      <th>1</th>\n",
       "      <td>8844</td>\n",
       "      <td>Jumanji</td>\n",
       "      <td>[boardgame, disappearance, basedonchildren'sbo...</td>\n",
       "    </tr>\n",
       "    <tr>\n",
       "      <th>2</th>\n",
       "      <td>15602</td>\n",
       "      <td>Grumpier Old Men</td>\n",
       "      <td>[fishing, bestfriend, duringcreditsstinger, ol...</td>\n",
       "    </tr>\n",
       "    <tr>\n",
       "      <th>3</th>\n",
       "      <td>31357</td>\n",
       "      <td>Waiting to Exhale</td>\n",
       "      <td>[basedonnovel, interracialrelationship, single...</td>\n",
       "    </tr>\n",
       "    <tr>\n",
       "      <th>4</th>\n",
       "      <td>11862</td>\n",
       "      <td>Father of the Bride Part II</td>\n",
       "      <td>[baby, midlifecrisis, confidence, aging, daugh...</td>\n",
       "    </tr>\n",
       "    <tr>\n",
       "      <th>...</th>\n",
       "      <td>...</td>\n",
       "      <td>...</td>\n",
       "      <td>...</td>\n",
       "    </tr>\n",
       "    <tr>\n",
       "      <th>24995</th>\n",
       "      <td>43193</td>\n",
       "      <td>Dangerous When Wet</td>\n",
       "      <td>[musical, englishchannel, swimmer, swimming, c...</td>\n",
       "    </tr>\n",
       "    <tr>\n",
       "      <th>24996</th>\n",
       "      <td>70512</td>\n",
       "      <td>L'inferno</td>\n",
       "      <td>[hell, basedonsong,poemorrhyme, Adventure, Dra...</td>\n",
       "    </tr>\n",
       "    <tr>\n",
       "      <th>24997</th>\n",
       "      <td>73103</td>\n",
       "      <td>Dante's Inferno</td>\n",
       "      <td>[Animation, Comedy, A, darkly, comedic, travel...</td>\n",
       "    </tr>\n",
       "    <tr>\n",
       "      <th>24998</th>\n",
       "      <td>38471</td>\n",
       "      <td>Dark Alibi</td>\n",
       "      <td>[prison, bankrobbery, fingerprints, ex-con, Cr...</td>\n",
       "    </tr>\n",
       "    <tr>\n",
       "      <th>24999</th>\n",
       "      <td>73997</td>\n",
       "      <td>David Spade: Take the Hit</td>\n",
       "      <td>[Comedy, David, Spade, focuses, on, pop-cultur...</td>\n",
       "    </tr>\n",
       "  </tbody>\n",
       "</table>\n",
       "<p>25000 rows × 3 columns</p>\n",
       "</div>"
      ],
      "text/plain": [
       "          id               original_title  \\\n",
       "0        862                    Toy Story   \n",
       "1       8844                      Jumanji   \n",
       "2      15602             Grumpier Old Men   \n",
       "3      31357            Waiting to Exhale   \n",
       "4      11862  Father of the Bride Part II   \n",
       "...      ...                          ...   \n",
       "24995  43193           Dangerous When Wet   \n",
       "24996  70512                    L'inferno   \n",
       "24997  73103              Dante's Inferno   \n",
       "24998  38471                   Dark Alibi   \n",
       "24999  73997    David Spade: Take the Hit   \n",
       "\n",
       "                                              collection  \n",
       "0      [jealousy, toy, boy, friendship, friends, riva...  \n",
       "1      [boardgame, disappearance, basedonchildren'sbo...  \n",
       "2      [fishing, bestfriend, duringcreditsstinger, ol...  \n",
       "3      [basedonnovel, interracialrelationship, single...  \n",
       "4      [baby, midlifecrisis, confidence, aging, daugh...  \n",
       "...                                                  ...  \n",
       "24995  [musical, englishchannel, swimmer, swimming, c...  \n",
       "24996  [hell, basedonsong,poemorrhyme, Adventure, Dra...  \n",
       "24997  [Animation, Comedy, A, darkly, comedic, travel...  \n",
       "24998  [prison, bankrobbery, fingerprints, ex-con, Cr...  \n",
       "24999  [Comedy, David, Spade, focuses, on, pop-cultur...  \n",
       "\n",
       "[25000 rows x 3 columns]"
      ]
     },
     "execution_count": 20,
     "metadata": {},
     "output_type": "execute_result"
    }
   ],
   "source": [
    "new_data = merged_data[['id','original_title', 'collection']].head(25000)\n",
    "new_data"
   ]
  },
  {
   "cell_type": "code",
   "execution_count": 21,
   "id": "f139470f",
   "metadata": {
    "execution": {
     "iopub.execute_input": "2023-05-03T03:24:39.812958Z",
     "iopub.status.busy": "2023-05-03T03:24:39.811981Z",
     "iopub.status.idle": "2023-05-03T03:24:39.875532Z",
     "shell.execute_reply": "2023-05-03T03:24:39.873993Z"
    },
    "papermill": {
     "duration": 0.07765,
     "end_time": "2023-05-03T03:24:39.878485",
     "exception": false,
     "start_time": "2023-05-03T03:24:39.800835",
     "status": "completed"
    },
    "tags": []
   },
   "outputs": [],
   "source": [
    "new_data['collection'] = new_data['collection'].apply(lambda x: \" \".join(x))"
   ]
  },
  {
   "cell_type": "code",
   "execution_count": 22,
   "id": "01cb6b69",
   "metadata": {
    "execution": {
     "iopub.execute_input": "2023-05-03T03:24:39.900327Z",
     "iopub.status.busy": "2023-05-03T03:24:39.899151Z",
     "iopub.status.idle": "2023-05-03T03:24:39.948517Z",
     "shell.execute_reply": "2023-05-03T03:24:39.946769Z"
    },
    "papermill": {
     "duration": 0.063485,
     "end_time": "2023-05-03T03:24:39.951656",
     "exception": false,
     "start_time": "2023-05-03T03:24:39.888171",
     "status": "completed"
    },
    "tags": []
   },
   "outputs": [],
   "source": [
    "new_data['collection'] = new_data['collection'].apply(lambda x: x.lower())"
   ]
  },
  {
   "cell_type": "code",
   "execution_count": 23,
   "id": "aa69a219",
   "metadata": {
    "execution": {
     "iopub.execute_input": "2023-05-03T03:24:39.974125Z",
     "iopub.status.busy": "2023-05-03T03:24:39.973669Z",
     "iopub.status.idle": "2023-05-03T03:24:39.986461Z",
     "shell.execute_reply": "2023-05-03T03:24:39.985269Z"
    },
    "papermill": {
     "duration": 0.027261,
     "end_time": "2023-05-03T03:24:39.989288",
     "exception": false,
     "start_time": "2023-05-03T03:24:39.962027",
     "status": "completed"
    },
    "tags": []
   },
   "outputs": [
    {
     "data": {
      "text/html": [
       "<div>\n",
       "<style scoped>\n",
       "    .dataframe tbody tr th:only-of-type {\n",
       "        vertical-align: middle;\n",
       "    }\n",
       "\n",
       "    .dataframe tbody tr th {\n",
       "        vertical-align: top;\n",
       "    }\n",
       "\n",
       "    .dataframe thead th {\n",
       "        text-align: right;\n",
       "    }\n",
       "</style>\n",
       "<table border=\"1\" class=\"dataframe\">\n",
       "  <thead>\n",
       "    <tr style=\"text-align: right;\">\n",
       "      <th></th>\n",
       "      <th>id</th>\n",
       "      <th>original_title</th>\n",
       "      <th>collection</th>\n",
       "    </tr>\n",
       "  </thead>\n",
       "  <tbody>\n",
       "    <tr>\n",
       "      <th>0</th>\n",
       "      <td>862</td>\n",
       "      <td>Toy Story</td>\n",
       "      <td>jealousy toy boy friendship friends rivalry bo...</td>\n",
       "    </tr>\n",
       "    <tr>\n",
       "      <th>1</th>\n",
       "      <td>8844</td>\n",
       "      <td>Jumanji</td>\n",
       "      <td>boardgame disappearance basedonchildren'sbook ...</td>\n",
       "    </tr>\n",
       "    <tr>\n",
       "      <th>2</th>\n",
       "      <td>15602</td>\n",
       "      <td>Grumpier Old Men</td>\n",
       "      <td>fishing bestfriend duringcreditsstinger oldmen...</td>\n",
       "    </tr>\n",
       "    <tr>\n",
       "      <th>3</th>\n",
       "      <td>31357</td>\n",
       "      <td>Waiting to Exhale</td>\n",
       "      <td>basedonnovel interracialrelationship singlemot...</td>\n",
       "    </tr>\n",
       "    <tr>\n",
       "      <th>4</th>\n",
       "      <td>11862</td>\n",
       "      <td>Father of the Bride Part II</td>\n",
       "      <td>baby midlifecrisis confidence aging daughter m...</td>\n",
       "    </tr>\n",
       "  </tbody>\n",
       "</table>\n",
       "</div>"
      ],
      "text/plain": [
       "      id               original_title  \\\n",
       "0    862                    Toy Story   \n",
       "1   8844                      Jumanji   \n",
       "2  15602             Grumpier Old Men   \n",
       "3  31357            Waiting to Exhale   \n",
       "4  11862  Father of the Bride Part II   \n",
       "\n",
       "                                          collection  \n",
       "0  jealousy toy boy friendship friends rivalry bo...  \n",
       "1  boardgame disappearance basedonchildren'sbook ...  \n",
       "2  fishing bestfriend duringcreditsstinger oldmen...  \n",
       "3  basedonnovel interracialrelationship singlemot...  \n",
       "4  baby midlifecrisis confidence aging daughter m...  "
      ]
     },
     "execution_count": 23,
     "metadata": {},
     "output_type": "execute_result"
    }
   ],
   "source": [
    "new_data.head()"
   ]
  },
  {
   "cell_type": "code",
   "execution_count": 24,
   "id": "16747c99",
   "metadata": {
    "execution": {
     "iopub.execute_input": "2023-05-03T03:24:40.012617Z",
     "iopub.status.busy": "2023-05-03T03:24:40.011199Z",
     "iopub.status.idle": "2023-05-03T03:24:41.761211Z",
     "shell.execute_reply": "2023-05-03T03:24:41.759879Z"
    },
    "papermill": {
     "duration": 1.764413,
     "end_time": "2023-05-03T03:24:41.764199",
     "exception": false,
     "start_time": "2023-05-03T03:24:39.999786",
     "status": "completed"
    },
    "tags": []
   },
   "outputs": [],
   "source": [
    "import nltk"
   ]
  },
  {
   "cell_type": "code",
   "execution_count": 25,
   "id": "b8c0dc0b",
   "metadata": {
    "execution": {
     "iopub.execute_input": "2023-05-03T03:24:41.787327Z",
     "iopub.status.busy": "2023-05-03T03:24:41.786099Z",
     "iopub.status.idle": "2023-05-03T03:24:41.792651Z",
     "shell.execute_reply": "2023-05-03T03:24:41.791245Z"
    },
    "papermill": {
     "duration": 0.021324,
     "end_time": "2023-05-03T03:24:41.795490",
     "exception": false,
     "start_time": "2023-05-03T03:24:41.774166",
     "status": "completed"
    },
    "tags": []
   },
   "outputs": [],
   "source": [
    "from nltk.stem.porter import PorterStemmer\n",
    "ps = PorterStemmer()"
   ]
  },
  {
   "cell_type": "code",
   "execution_count": 26,
   "id": "64cdfdbf",
   "metadata": {
    "execution": {
     "iopub.execute_input": "2023-05-03T03:24:41.817962Z",
     "iopub.status.busy": "2023-05-03T03:24:41.817223Z",
     "iopub.status.idle": "2023-05-03T03:24:41.822545Z",
     "shell.execute_reply": "2023-05-03T03:24:41.821569Z"
    },
    "papermill": {
     "duration": 0.019198,
     "end_time": "2023-05-03T03:24:41.825050",
     "exception": false,
     "start_time": "2023-05-03T03:24:41.805852",
     "status": "completed"
    },
    "tags": []
   },
   "outputs": [],
   "source": [
    "def stem(text):\n",
    "    y = []\n",
    "    \n",
    "    for i in text.split():\n",
    "        y.append(ps.stem(i))\n",
    "        \n",
    "    return \" \".join(y)"
   ]
  },
  {
   "cell_type": "code",
   "execution_count": 27,
   "id": "60fdffbf",
   "metadata": {
    "execution": {
     "iopub.execute_input": "2023-05-03T03:24:41.847532Z",
     "iopub.status.busy": "2023-05-03T03:24:41.846722Z",
     "iopub.status.idle": "2023-05-03T03:25:21.413184Z",
     "shell.execute_reply": "2023-05-03T03:25:21.411677Z"
    },
    "papermill": {
     "duration": 39.581091,
     "end_time": "2023-05-03T03:25:21.416424",
     "exception": false,
     "start_time": "2023-05-03T03:24:41.835333",
     "status": "completed"
    },
    "tags": []
   },
   "outputs": [],
   "source": [
    "new_data['collection'] = new_data['collection'].apply(stem)"
   ]
  },
  {
   "cell_type": "code",
   "execution_count": 28,
   "id": "15097378",
   "metadata": {
    "execution": {
     "iopub.execute_input": "2023-05-03T03:25:21.439047Z",
     "iopub.status.busy": "2023-05-03T03:25:21.438323Z",
     "iopub.status.idle": "2023-05-03T03:25:21.444991Z",
     "shell.execute_reply": "2023-05-03T03:25:21.443450Z"
    },
    "papermill": {
     "duration": 0.021146,
     "end_time": "2023-05-03T03:25:21.447960",
     "exception": false,
     "start_time": "2023-05-03T03:25:21.426814",
     "status": "completed"
    },
    "tags": []
   },
   "outputs": [],
   "source": [
    "from sklearn.feature_extraction.text import CountVectorizer\n",
    "cv = CountVectorizer(max_features=5000,stop_words='english')"
   ]
  },
  {
   "cell_type": "code",
   "execution_count": 29,
   "id": "2a727f58",
   "metadata": {
    "execution": {
     "iopub.execute_input": "2023-05-03T03:25:21.470967Z",
     "iopub.status.busy": "2023-05-03T03:25:21.469737Z",
     "iopub.status.idle": "2023-05-03T03:25:24.140852Z",
     "shell.execute_reply": "2023-05-03T03:25:24.139573Z"
    },
    "papermill": {
     "duration": 2.685023,
     "end_time": "2023-05-03T03:25:24.143519",
     "exception": false,
     "start_time": "2023-05-03T03:25:21.458496",
     "status": "completed"
    },
    "tags": []
   },
   "outputs": [
    {
     "data": {
      "text/plain": [
       "(25000, 5000)"
      ]
     },
     "execution_count": 29,
     "metadata": {},
     "output_type": "execute_result"
    }
   ],
   "source": [
    "vector = cv.fit_transform(new_data['collection']).toarray()\n",
    "vector.shape"
   ]
  },
  {
   "cell_type": "code",
   "execution_count": 30,
   "id": "f9dfacf6",
   "metadata": {
    "execution": {
     "iopub.execute_input": "2023-05-03T03:25:24.165066Z",
     "iopub.status.busy": "2023-05-03T03:25:24.164618Z",
     "iopub.status.idle": "2023-05-03T03:25:24.170685Z",
     "shell.execute_reply": "2023-05-03T03:25:24.169298Z"
    },
    "papermill": {
     "duration": 0.019836,
     "end_time": "2023-05-03T03:25:24.173125",
     "exception": false,
     "start_time": "2023-05-03T03:25:24.153289",
     "status": "completed"
    },
    "tags": []
   },
   "outputs": [],
   "source": [
    "from sklearn.metrics.pairwise import cosine_similarity"
   ]
  },
  {
   "cell_type": "code",
   "execution_count": 31,
   "id": "94eeeb5f",
   "metadata": {
    "execution": {
     "iopub.execute_input": "2023-05-03T03:25:24.195507Z",
     "iopub.status.busy": "2023-05-03T03:25:24.194961Z",
     "iopub.status.idle": "2023-05-03T03:26:15.561993Z",
     "shell.execute_reply": "2023-05-03T03:26:15.560408Z"
    },
    "papermill": {
     "duration": 51.382395,
     "end_time": "2023-05-03T03:26:15.565439",
     "exception": false,
     "start_time": "2023-05-03T03:25:24.183044",
     "status": "completed"
    },
    "tags": []
   },
   "outputs": [],
   "source": [
    "similarity = cosine_similarity(vector)"
   ]
  },
  {
   "cell_type": "code",
   "execution_count": 32,
   "id": "057853d6",
   "metadata": {
    "execution": {
     "iopub.execute_input": "2023-05-03T03:26:15.588265Z",
     "iopub.status.busy": "2023-05-03T03:26:15.587841Z",
     "iopub.status.idle": "2023-05-03T03:26:15.595795Z",
     "shell.execute_reply": "2023-05-03T03:26:15.593863Z"
    },
    "papermill": {
     "duration": 0.022986,
     "end_time": "2023-05-03T03:26:15.599022",
     "exception": false,
     "start_time": "2023-05-03T03:26:15.576036",
     "status": "completed"
    },
    "tags": []
   },
   "outputs": [],
   "source": [
    "def recommend(movie):\n",
    "    index = new_data[new_data['original_title'] == movie].index[0]\n",
    "    distances = similarity[index]\n",
    "    most_similar_movies = sorted(list(enumerate(distances)),reverse=True,key = lambda x: x[1])[1:6]\n",
    "    \n",
    "    for i in most_similar_movies:\n",
    "        print(new_data.iloc[i[0]].original_title)"
   ]
  },
  {
   "cell_type": "code",
   "execution_count": 33,
   "id": "649172eb",
   "metadata": {
    "execution": {
     "iopub.execute_input": "2023-05-03T03:26:15.625797Z",
     "iopub.status.busy": "2023-05-03T03:26:15.624422Z",
     "iopub.status.idle": "2023-05-03T03:26:15.662056Z",
     "shell.execute_reply": "2023-05-03T03:26:15.660308Z"
    },
    "papermill": {
     "duration": 0.057104,
     "end_time": "2023-05-03T03:26:15.666942",
     "exception": false,
     "start_time": "2023-05-03T03:26:15.609838",
     "status": "completed"
    },
    "tags": []
   },
   "outputs": [
    {
     "name": "stdout",
     "output_type": "stream",
     "text": [
      "Toy Story 2\n",
      "Small Fry\n",
      "Walk Like a Man\n",
      "Brighton Beach Memoirs\n",
      "The Million Dollar Duck\n"
     ]
    }
   ],
   "source": [
    "recommend('Toy Story')"
   ]
  },
  {
   "cell_type": "code",
   "execution_count": 34,
   "id": "87331473",
   "metadata": {
    "execution": {
     "iopub.execute_input": "2023-05-03T03:26:15.689956Z",
     "iopub.status.busy": "2023-05-03T03:26:15.689504Z",
     "iopub.status.idle": "2023-05-03T03:26:30.301493Z",
     "shell.execute_reply": "2023-05-03T03:26:30.300213Z"
    },
    "papermill": {
     "duration": 14.627129,
     "end_time": "2023-05-03T03:26:30.304538",
     "exception": false,
     "start_time": "2023-05-03T03:26:15.677409",
     "status": "completed"
    },
    "tags": []
   },
   "outputs": [],
   "source": [
    "import pickle\n",
    "pickle.dump(new_data.to_dict(), open('final-movie-dict.pkl', 'wb'))\n",
    "pickle.dump(similarity,open('final-similarity.pkl', 'wb'),protocol = 4)"
   ]
  }
 ],
 "metadata": {
  "kernelspec": {
   "display_name": "Python 3",
   "language": "python",
   "name": "python3"
  },
  "language_info": {
   "codemirror_mode": {
    "name": "ipython",
    "version": 3
   },
   "file_extension": ".py",
   "mimetype": "text/x-python",
   "name": "python",
   "nbconvert_exporter": "python",
   "pygments_lexer": "ipython3",
   "version": "3.7.12"
  },
  "papermill": {
   "default_parameters": {},
   "duration": 175.659291,
   "end_time": "2023-05-03T03:26:36.343256",
   "environment_variables": {},
   "exception": null,
   "input_path": "__notebook__.ipynb",
   "output_path": "__notebook__.ipynb",
   "parameters": {},
   "start_time": "2023-05-03T03:23:40.683965",
   "version": "2.4.0"
  }
 },
 "nbformat": 4,
 "nbformat_minor": 5
}
